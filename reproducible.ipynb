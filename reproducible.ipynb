{
 "cells": [
  {
   "cell_type": "code",
   "execution_count": 8,
   "metadata": {},
   "outputs": [],
   "source": [
    "import numpy as np\n",
    "import pandas as pd"
   ]
  },
  {
   "cell_type": "code",
   "execution_count": 9,
   "metadata": {},
   "outputs": [],
   "source": [
    "df1 = pd.read_json(\"./pred_results/bert-large.test.all.output.jsonl\", lines=True)\n",
    "df2 = pd.read_json(\"./results/bert-large.test.all.output.jsonl\", lines=True)"
   ]
  },
  {
   "cell_type": "code",
   "execution_count": 10,
   "metadata": {},
   "outputs": [],
   "source": [
    "full_match = []\n",
    "match_first = []\n",
    "match_second = []\n",
    "match_third = []\n",
    "\n",
    "for r1, r2 in zip(df1.result_list, df2.result_list):\n",
    "    m1 = r1[0]['word'] == r2[0]['word']\n",
    "    m2 = r1[1]['word'] == r2[1]['word']\n",
    "    m3 = r1[2]['word'] == r2[2]['word']\n",
    "    ma = m1 and m2 and m3\n",
    "    \n",
    "    # append\n",
    "    match_first.append(m1)\n",
    "    match_second.append(m2)\n",
    "    match_third.append(m3)\n",
    "    full_match.append(ma)"
   ]
  },
  {
   "cell_type": "code",
   "execution_count": 11,
   "metadata": {},
   "outputs": [
    {
     "data": {
      "text/plain": [
       "1.0"
      ]
     },
     "execution_count": 11,
     "metadata": {},
     "output_type": "execute_result"
    }
   ],
   "source": [
    "np.mean(full_match)"
   ]
  },
  {
   "cell_type": "code",
   "execution_count": 15,
   "metadata": {},
   "outputs": [
    {
     "name": "stdout",
     "output_type": "stream",
     "text": [
      "                                                   0      1\n",
      "0  you may take the subway back and forth to work...   five\n",
      "1  a <mask> door car has four entrances for passe...   four\n",
      "2       the word children means <mask> or more kids.    two\n",
      "3  each human hand almost always contains <mask> ...   five\n",
      "4  how do you win at tic-tac-toe get <mask> of yo...  three\n"
     ]
    }
   ],
   "source": [
    "#eval \n",
    "eval = pd.read_csv('./data/validation.masked.tsv', sep='\\t', header=None)\n",
    "print(eval.head())"
   ]
  },
  {
   "cell_type": "code",
   "execution_count": 6,
   "metadata": {},
   "outputs": [],
   "source": [
    "hit_1 = 0\n",
    "hit_2 = 0\n",
    "hit_3 = 0\n",
    "for i in range(len(eval)):\n",
    "    eval_probe, y = eval.loc[i, :]\n",
    "    if i == 44:\n",
    "        # skip 44 sine it contains double quotes\n",
    "        continue\n",
    "    preds = df1[df1.probe == eval_probe].result_list.tolist()[0]\n",
    "    if preds[0]['word'] == y:\n",
    "        hit_1 += 1\n",
    "    if preds[1]['word'] == y:\n",
    "        hit_2 += 1\n",
    "    if preds[2]['word'] == y:\n",
    "        hit_3 += 1"
   ]
  },
  {
   "cell_type": "code",
   "execution_count": 7,
   "metadata": {},
   "outputs": [
    {
     "name": "stdout",
     "output_type": "stream",
     "text": [
      "0.34673366834170855\n",
      "0.5879396984924623\n",
      "0.7236180904522613\n"
     ]
    }
   ],
   "source": [
    "# before finetuning\n",
    "print(hit_1/ 199)\n",
    "print((hit_1 + hit_2)/ 199)\n",
    "print((hit_1 + hit_2 + hit_3)/ 199)"
   ]
  },
  {
   "cell_type": "markdown",
   "metadata": {},
   "source": [
    "# After finetuning Bert-Large"
   ]
  },
  {
   "cell_type": "code",
   "execution_count": 13,
   "metadata": {},
   "outputs": [],
   "source": [
    "df1 = pd.read_json(\"./pred_results/bert-large-finetuned.test.all.output.jsonl\", lines=True)"
   ]
  },
  {
   "cell_type": "code",
   "execution_count": 16,
   "metadata": {},
   "outputs": [],
   "source": [
    "hit_1 = 0\n",
    "hit_2 = 0\n",
    "hit_3 = 0\n",
    "for i in range(len(eval)):\n",
    "    eval_probe, y = eval.loc[i, :]\n",
    "    if i == 44:\n",
    "        # skip 44 sine it contains double quotes\n",
    "        continue\n",
    "    preds = df1[df1.probe == eval_probe].result_list.tolist()[0]\n",
    "    if preds[0]['word'] == y:\n",
    "        hit_1 += 1\n",
    "    if preds[1]['word'] == y:\n",
    "        hit_2 += 1\n",
    "    if preds[2]['word'] == y:\n",
    "        hit_3 += 1"
   ]
  },
  {
   "cell_type": "code",
   "execution_count": 17,
   "metadata": {},
   "outputs": [
    {
     "name": "stdout",
     "output_type": "stream",
     "text": [
      "0.4221105527638191\n",
      "0.6130653266331658\n",
      "0.7085427135678392\n"
     ]
    }
   ],
   "source": [
    "# after finetuning\n",
    "print(hit_1/ 199)\n",
    "print((hit_1 + hit_2)/ 199)\n",
    "print((hit_1 + hit_2 + hit_3)/ 199)"
   ]
  }
 ],
 "metadata": {
  "kernelspec": {
   "display_name": "Python 3.7.13 ('numersense')",
   "language": "python",
   "name": "python3"
  },
  "language_info": {
   "codemirror_mode": {
    "name": "ipython",
    "version": 3
   },
   "file_extension": ".py",
   "mimetype": "text/x-python",
   "name": "python",
   "nbconvert_exporter": "python",
   "pygments_lexer": "ipython3",
   "version": "3.7.13"
  },
  "orig_nbformat": 4,
  "vscode": {
   "interpreter": {
    "hash": "f69c513fd5e5b98d8c55103f7f6b2356c4ed572a4fc9ede04639e90b9f5bea09"
   }
  }
 },
 "nbformat": 4,
 "nbformat_minor": 2
}
